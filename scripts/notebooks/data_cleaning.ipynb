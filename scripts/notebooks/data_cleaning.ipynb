{
 "cells": [
  {
   "cell_type": "code",
   "execution_count": 6,
   "metadata": {},
   "outputs": [],
   "source": [
    "import pandas as pd\n",
    "import numpy as np\n",
    "from pathlib import PurePath\n",
    "import re"
   ]
  },
  {
   "cell_type": "code",
   "execution_count": 7,
   "metadata": {},
   "outputs": [],
   "source": [
    "CSV_DIR_PATH = PurePath(\"../../csv\")\n",
    "SRC_CSV_FILE_NAME = \"AI EarthHack Dataset.csv\"\n",
    "DEST_CSV_FILE_NAME = \"Filtered AI EarthHack Dataset.csv\"\n",
    "SRC_CSV_FILE_PATH = CSV_DIR_PATH / SRC_CSV_FILE_NAME\n",
    "DEST_CSV_FILE_PATH = CSV_DIR_PATH / DEST_CSV_FILE_NAME\n",
    "df = pd.read_csv(SRC_CSV_FILE_PATH)"
   ]
  },
  {
   "cell_type": "code",
   "execution_count": 8,
   "metadata": {},
   "outputs": [],
   "source": [
    "df = df.drop(columns = \"id\")  # IDs are not important right now"
   ]
  },
  {
   "cell_type": "code",
   "execution_count": 127,
   "metadata": {},
   "outputs": [],
   "source": [
    "problem_lengths = df[\"problem\"].str.len()\n",
    "solution_lengths = df[\"solution\"].str.len()"
   ]
  },
  {
   "cell_type": "code",
   "execution_count": 128,
   "metadata": {},
   "outputs": [],
   "source": [
    "indices_to_keep = list((problem_lengths >= 10) & (solution_lengths >= 250))\n",
    "filtered_df = df.iloc[indices_to_keep]\n",
    "filtered_df.to_csv(DEST_CSV_FILE_PATH, index=False)"
   ]
  },
  {
   "cell_type": "code",
   "execution_count": 24,
   "metadata": {},
   "outputs": [
    {
     "data": {
      "text/plain": [
       "1146"
      ]
     },
     "execution_count": 24,
     "metadata": {},
     "output_type": "execute_result"
    }
   ],
   "source": [
    "# Process the data, removing short problems and solutions.\n",
    "df['solution'] = df['solution'].str.encode('utf-8', errors='ignore').str.decode('utf-8')\n",
    "df['res_sent_cnt'] = df['solution'].apply(lambda x: len(re.findall('[^.!?]+[.!?]', str(x))))\n",
    "df['r_char_cnt'] = df['solution'].apply(lambda x: len(str(x)))\n",
    "df['p_char_cnt'] = df['problem'].apply(lambda x: len(str(x)))\n",
    "\n",
    "result_data = df[(df['res_sent_cnt'] > 10 | (df['r_char_cnt'] >= 250)) & (df['p_char_cnt'] > 42)]\n",
    "result_data\n"
   ]
  }
 ],
 "metadata": {
  "kernelspec": {
   "display_name": "venv",
   "language": "python",
   "name": "python3"
  },
  "language_info": {
   "codemirror_mode": {
    "name": "ipython",
    "version": 3
   },
   "file_extension": ".py",
   "mimetype": "text/x-python",
   "name": "python",
   "nbconvert_exporter": "python",
   "pygments_lexer": "ipython3",
   "version": "3.11.7"
  }
 },
 "nbformat": 4,
 "nbformat_minor": 2
}
